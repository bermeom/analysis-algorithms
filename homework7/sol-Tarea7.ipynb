{
 "cells": [
  {
   "cell_type": "code",
   "execution_count": 1,
   "metadata": {
    "collapsed": true
   },
   "outputs": [],
   "source": [
    "import numpy as np\n",
    "import matplotlib.pyplot as plt \n",
    "from scipy import integrate\n",
    "import math\n",
    "%matplotlib inline "
   ]
  },
  {
   "cell_type": "code",
   "execution_count": 2,
   "metadata": {
    "collapsed": false
   },
   "outputs": [],
   "source": [
    "def DL(z,H0,dm,c):\n",
    "    def func(z,dm):\n",
    "        return 1/math.sqrt(dm*(1+z)**3+(1-dm))\n",
    "    z1,erro=integrate.quad(func,0,z,args=int(dm,))\n",
    "    dis=(1+z)*(c/float(H0))*z1\n",
    "    return float(dis)"
   ]
  },
  {
   "cell_type": "code",
   "execution_count": 4,
   "metadata": {
    "collapsed": true
   },
   "outputs": [],
   "source": [
    "def modist(z,H0,dm,c):\n",
    "\n",
    "    return 5.0*math.log10(DL(z,H0,dm,c))-5"
   ]
  },
  {
   "cell_type": "code",
   "execution_count": 6,
   "metadata": {
    "collapsed": false
   },
   "outputs": [],
   "source": [
    "supernova= np.genfromtxt(\"SCPUnion2.1_mu_vs_z.txt\")"
   ]
  },
  {
   "cell_type": "code",
   "execution_count": 7,
   "metadata": {
    "collapsed": true
   },
   "outputs": [],
   "source": [
    "redshift=supernova[:,1]\n",
    "magaparente=supernova[:,2]\n",
    "error=supernova[:,3]"
   ]
  },
  {
   "cell_type": "code",
   "execution_count": 13,
   "metadata": {
    "collapsed": false
   },
   "outputs": [],
   "source": [
    "M=-19.3\n",
    "modisi=[]\n",
    "for i in range (len(magaparente)):\n",
    "    modisi.append(magaparente[i]-M)"
   ]
  },
  {
   "cell_type": "code",
   "execution_count": 18,
   "metadata": {
    "collapsed": false
   },
   "outputs": [],
   "source": [
    "def chi_squared(H0,dm):\n",
    "    suma =0\n",
    "    for i in range (len(redshift)):\n",
    "        suma+=(modist(redshift[i],H0,dm,3*(10**8))-modisi[i])**2/float(error[i]**2)\n",
    "        return suma"
   ]
  },
  {
   "cell_type": "code",
   "execution_count": null,
   "metadata": {
    "collapsed": true
   },
   "outputs": [],
   "source": []
  }
 ],
 "metadata": {
  "kernelspec": {
   "display_name": "Python 2",
   "language": "python",
   "name": "python2"
  },
  "language_info": {
   "codemirror_mode": {
    "name": "ipython",
    "version": 2
   },
   "file_extension": ".py",
   "mimetype": "text/x-python",
   "name": "python",
   "nbconvert_exporter": "python",
   "pygments_lexer": "ipython2",
   "version": "2.7.6"
  }
 },
 "nbformat": 4,
 "nbformat_minor": 0
}
