{
 "cells": [
  {
   "cell_type": "markdown",
   "metadata": {},
   "source": [
    "# Tarea 7\n",
    "## Métodos Computacionales (2016-1)\n",
    "\n",
    "Esta tarea es individual y debe entregarse por Sicua Plus como un único archivo con extensión \".ipynb\". Verifique que su notebook pueda ejecutarse en orden."
   ]
  },
  {
   "cell_type": "markdown",
   "metadata": {},
   "source": [
    "# La Física\n",
    "## Luminosidad, magnitud aparente y magnitud relativa\n",
    "En astronomía hay dos cantidades claves para entender la luminosidad de los objetos en el cielo\n",
    "\n",
    "+ Por un lado tenemos la magnitud aparente, la cual es una medida de la luminosidad de un objeto que se observa desde la tierra. Solemos denotarla por la letra $m$. Aquí tenemos una lista de las magnitudes aparentes de algunos cuerpos celestes (de Wikipedia):\n",
    "\n",
    "\n",
    " | Magnitud aparente ($m$) | Objeto celeste |\n",
    " | ----------------------- | -------------- |\n",
    " | -26.8 | Sol |\n",
    " | -12.6 | Luna llena |\n",
    " | -4.4  | Brillo máximo de Venus |\n",
    " | -2.9  | Brillo máximo de Júpiter |\n",
    " | -2.8  | Brillo máximo de Marte |\n",
    " | -1.9  | Brillo máximo de Mercurio |\n",
    " | -1.5  | Estrella más brillante: Sirio |\n",
    " | -0.67 | Segunda estrella más brillante: Canopus |\n",
    " | -0.24 | Brillo máximo de Saturno |\n",
    " |  +3.0 | Estrellas débiles que son visibles en una vecindad urbana |\n",
    " | +6.0  | Estrellas débiles visibles al ojo humano |\n",
    " | +12.6 | Quasar más brillante |\n",
    " | +30 \t | Objetos más débiles observables con el Telescopio Espacial Hubble |\n",
    "\n",
    "+ Por otro lado tenemos la magnitud absoluta, la cual es una medida de la luminosidad de un objeto que se observa a una distancia de 10 Parsecs. Solemos denotarla por la letra $M$.\n",
    "\n",
    "Note que la magnitud absoluta, como su nombre lo dice, es una medida absoluta de la luminosidad de un cuerpo celeste. Dos objetos con la misma magnitud absoluta emiten la misma cantidad de luz. Mientras que magnitud aparente es una medida relativa, dos objetos pueden tener la misma magnitud aparente y emitir distintas cantidades de luz si uno se encuentra mas lejos de la tierra que otro.\n",
    "\n",
    "Entonces, una relación entre estas dos magnitudes puede entenderse como la distancia que hay entre un cuerpo celeste y la tierra. Un ejemplo de esto es el módulo de distancia ($\\mu$) que definimos como\n",
    "$$\\mu = m-M$$\n",
    "Otra cantidad relacionada es la distancia de luminosidad ($D_{L}$)\n",
    "$$D_{L} = 10^{\\frac{\\mu}{5} + 1}$$\n",
    "\n",
    "## Cosmología\n",
    "Para nuestro ejercicio, consideraremos que el universo es plano y que estamos en una etapa del universo donde la radiación inicial del universo se ha desvanecido totalmente. De la ecuación de Hubble podemos derivar la distancia de luminosidad de cualquier objeto si conocemos su corrimiento al rojo, la velocidad de la luz, la constante de Hubble y el parámetro de densidad de materia en el universo  \n",
    "\n",
    "$$ D_L(z; H_{0},\\Omega_{M}) = (1+z)\\frac{c}{H_{0}}\\int_{0}^{z}\\frac{dz}{\\sqrt{\\Omega_{M}(1+z)^{3} + (1-\\Omega_{M})}}$$\n",
    "\n",
    "Y asi mismo podemos conocer su módulo de distancia\n",
    "\n",
    "$$\\mu(z; H_{0}, \\Omega_{M}) = 5\\log_{10}(D_{L})-5$$\n",
    "\n",
    "## Supernovas 1a\n",
    "Las supernovas 1a son eventos que ocurren en sistemas binarios de estrellas, en la cual una de ellas es una enana blanca. Una supernova 1a ocurre cuando la enana blanca comienza a acretar materia proveniente de su compañera hasta que alcanza cierta masa crítica y explota. Dado que las condiciones de estos eventos son muy similares, todas las supernovas 1a brillan con la misma intensidad y por lo tanto su magnitud absoluta es la misma $M = −19.3$. Dado que desde la tierra podemos medir la magnitud aparente conocemos el módulo de luminosidad y la distancia de luminosidad de estos eventos.\n",
    "\n",
    "# Los Datos\n",
    "Supernova Cosmology Project tiene una compilación de las magnitudes aparentes y el corrimiento al rojo de 800 supernovas 1a. Estos datos pueden encontrarlos acá: http://supernova.lbl.gov/union/figures/SCPUnion2.1_mu_vs_z.txt . En cada columna encontrarán: El ID de la supernova, corrimiento al rojo, magnitud aparente y el error de la magnitud aparente. Hay una columna adicional que no es relevante para nuestros propositos."
   ]
  },
  {
   "cell_type": "markdown",
   "metadata": {},
   "source": [
    "# Ejercicio\n",
    "\n",
    "### Punto 1a (20 puntos):\n",
    "Escriba una función en Python que calcule la distancia de luminosidad $D_L$ y que reciba como parámetros, el redshift $z$, la constante de Hubble $H_{0}$, el parámetro de densidad de materia $\\Omega_{M}$ y la velocidad de la luz en el vacío $c$. Dado que la integral no puede hacerse de forma analítica, se recomienda utilizar scipy.integrate.quad. Usted debe familiarizarse con su funcionamiento guiandose por la documentación de Scipy.\n",
    "\n",
    "### Punto 1b (10 puntos):\n",
    "Escriba una función en Python que calcule el módulo de distancia $\\mu$ y que reciba como parámetros, el redshift $z$, la constante de Hubble $H_{0}$, el parámetro de densidad de materia $\\Omega_{M}$ y la velocidad de la luz en el vacío $c$, utilizando la función del punto anterior."
   ]
  },
  {
   "cell_type": "markdown",
   "metadata": {},
   "source": [
    "### Punto 2a (5 puntos):\n",
    "Cargue los datos dados por Supernova Cosmology Project como arrays de Numpy, usted debe tener un array para el redshift, otro para la magnitud aparente y otro para la incertidumbre de esta última. Note que no es necesario utilizar Astropy o Pandas para esta tarea, con numpy.loadtxt es suficiente.\n",
    "\n",
    "### Punto 2b (5 puntos):\n",
    "Habiendo cargado estos datos, escriba una función en Python que compute el Chi cuadrado como función de $H_{0}$ y $\\Omega_{M}$ utilizando el modelo definido en el punto 1 y los datos del punto 2.\n",
    "$$\\chi^{2}(H_0,\\Omega_M) = \\sum_{i=1}^{n} \\frac{(\\mu_{teo}(z_i; H_0, \\Omega_M) - \\mu_i)^2}{\\sigma_i^2}$$\n",
    "Note que $c$ no aparece explícitamente porque asumiremos que conocemos su valor, use el valor oficial de $c$.\n"
   ]
  },
  {
   "cell_type": "markdown",
   "metadata": {
    "collapsed": true
   },
   "source": [
    "\n",
    "### Punto 3a (30 puntos):\n",
    "Implemente desde cero el algoritmo de Metropolis-Hastings en Python para muestrear la verosimilitud\n",
    "$$\\mathcal{L}\\propto \\exp(-\\frac{1}{2}\\chi^{2}(H_0,\\Omega_M))$$\n",
    "Solo puede utilizar funciones basicas de python y de numpy dentro del algoritmo.\n",
    "\n",
    "### Punto 3b (10 puntos):\n",
    "Calcule la media y los percentiles 16% y 84% para los parámetros (ver numpy.percentiles). Haga un histograma para cada parámetro $H_0$ y $\\Omega_M$ usando matplotlib. Incluya en estos histogramas la media y los percentiles de sus parámetros.\n"
   ]
  },
  {
   "cell_type": "markdown",
   "metadata": {},
   "source": [
    "### Punto 4a (10 puntos):\n",
    "Si su caminata aleatoria tiene $N$ pasos, calcule la varianza $\\sigma_{n}^{2}$ de la caminata aleatoria desde $n$ hasta $N$ para todos los $n$ desde $2$ hasta $N$. Si su cadena está bien mezclada esta varianza $\\sigma_{n}^{2}$ debería disminuir en función de $n$ y estabilizarse. Grafíquela.\n",
    "\n",
    "### Punto 4b (10 puntos):\n",
    "Compare sus resultados con los obtenidos por Planck (ver http://arxiv.org/abs/1502.01589 Tabla 3) con los resultados de los puntos 3b, 4a y 4c concluya. Los resultados obtenidos son razonables? la caminata aleatoria se encuentra bien mezclada? etc."
   ]
  }
 ],
 "metadata": {
  "kernelspec": {
   "display_name": "Python 2",
   "language": "python",
   "name": "python2"
  },
  "language_info": {
   "codemirror_mode": {
    "name": "ipython",
    "version": 2
   },
   "file_extension": ".py",
   "mimetype": "text/x-python",
   "name": "python",
   "nbconvert_exporter": "python",
   "pygments_lexer": "ipython2",
   "version": "2.7.10"
  }
 },
 "nbformat": 4,
 "nbformat_minor": 0
}
